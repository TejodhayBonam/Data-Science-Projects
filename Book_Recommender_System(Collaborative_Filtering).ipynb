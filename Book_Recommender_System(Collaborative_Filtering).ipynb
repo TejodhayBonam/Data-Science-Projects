{
  "nbformat": 4,
  "nbformat_minor": 0,
  "metadata": {
    "colab": {
      "name": "Book Recommender System(Collaborative Filtering).ipynb",
      "provenance": [],
      "collapsed_sections": [],
      "authorship_tag": "ABX9TyOBGkPLEIP9n1nxI6r8PJGA",
      "include_colab_link": true
    },
    "kernelspec": {
      "name": "python3",
      "display_name": "Python 3"
    },
    "language_info": {
      "name": "python"
    }
  },
  "cells": [
    {
      "cell_type": "markdown",
      "metadata": {
        "id": "view-in-github",
        "colab_type": "text"
      },
      "source": [
        "<a href=\"https://colab.research.google.com/github/TejodhayBonam/Data-Science-Projects/blob/main/Book_Recommender_System(Collaborative_Filtering).ipynb\" target=\"_parent\"><img src=\"https://colab.research.google.com/assets/colab-badge.svg\" alt=\"Open In Colab\"/></a>"
      ]
    },
    {
      "cell_type": "code",
      "execution_count": null,
      "metadata": {
        "colab": {
          "base_uri": "https://localhost:8080/"
        },
        "id": "eioqx94UEnLT",
        "outputId": "8f4582b6-03a2-42a2-d5f1-da29bebc76d4"
      },
      "outputs": [
        {
          "output_type": "stream",
          "name": "stdout",
          "text": [
            "Requirement already satisfied: pyopencl==2020.1 in /usr/local/lib/python3.7/dist-packages (2020.1)\n",
            "Requirement already satisfied: appdirs>=1.4.0 in /usr/local/lib/python3.7/dist-packages (from pyopencl==2020.1) (1.4.4)\n",
            "Requirement already satisfied: decorator>=3.2.0 in /usr/local/lib/python3.7/dist-packages (from pyopencl==2020.1) (4.4.2)\n",
            "Requirement already satisfied: numpy in /usr/local/lib/python3.7/dist-packages (from pyopencl==2020.1) (1.19.5)\n",
            "Requirement already satisfied: six>=1.9.0 in /usr/local/lib/python3.7/dist-packages (from pyopencl==2020.1) (1.15.0)\n",
            "Requirement already satisfied: pytools>=2017.6 in /usr/local/lib/python3.7/dist-packages (from pyopencl==2020.1) (2021.2.9)\n",
            "Requirement already satisfied: pycuda in /usr/local/lib/python3.7/dist-packages (2021.1)\n",
            "Requirement already satisfied: pytools>=2011.2 in /usr/local/lib/python3.7/dist-packages (from pycuda) (2021.2.9)\n",
            "Requirement already satisfied: mako in /usr/local/lib/python3.7/dist-packages (from pycuda) (1.1.6)\n",
            "Requirement already satisfied: appdirs>=1.4.0 in /usr/local/lib/python3.7/dist-packages (from pycuda) (1.4.4)\n",
            "Requirement already satisfied: numpy>=1.6.0 in /usr/local/lib/python3.7/dist-packages (from pytools>=2011.2->pycuda) (1.19.5)\n",
            "Requirement already satisfied: MarkupSafe>=0.9.2 in /usr/local/lib/python3.7/dist-packages (from mako->pycuda) (2.0.1)\n"
          ]
        }
      ],
      "source": [
        "! pip install pyopencl==2020.1\n",
        "! pip install pycuda"
      ]
    },
    {
      "cell_type": "code",
      "source": [
        "!rm -rf data/ && mkdir data\n",
        "!cd data && git clone https://github.com/pypr/compyle.git\n",
        "!cd data/compyle && python setup.py install"
      ],
      "metadata": {
        "colab": {
          "base_uri": "https://localhost:8080/"
        },
        "id": "pixqQ8OlE5px",
        "outputId": "48c1a515-988c-4f6f-a203-3cf9d88bdac2"
      },
      "execution_count": null,
      "outputs": [
        {
          "output_type": "stream",
          "name": "stdout",
          "text": [
            "Cloning into 'compyle'...\n",
            "remote: Enumerating objects: 2278, done.\u001b[K\n",
            "remote: Counting objects: 100% (301/301), done.\u001b[K\n",
            "remote: Compressing objects: 100% (200/200), done.\u001b[K\n",
            "remote: Total 2278 (delta 183), reused 180 (delta 95), pack-reused 1977\u001b[K\n",
            "Receiving objects: 100% (2278/2278), 575.07 KiB | 937.00 KiB/s, done.\n",
            "Resolving deltas: 100% (1324/1324), done.\n",
            "Warning: passing language='c++' to cythonize() is deprecated. Instead, put \"# distutils: language=c++\" in your .pyx or .pxd file(s)\n",
            "Compiling compyle/thrust/sort.pyx because it changed.\n",
            "[1/1] Cythonizing compyle/thrust/sort.pyx\n",
            "/usr/local/lib/python3.7/dist-packages/Cython/Compiler/Main.py:369: FutureWarning: Cython directive 'language_level' not set, using 2 for now (Py2). This will change in a later release! File: /content/data/compyle/compyle/thrust/sort.pyx\n",
            "  tree = Parsing.p_module(s, pxd, full_module_name)\n",
            "/usr/local/lib/python3.7/dist-packages/setuptools/dist.py:484: UserWarning: Normalizing '0.9.dev' to '0.9.dev0'\n",
            "  warnings.warn(tmpl.format(**locals()))\n",
            "running install\n",
            "running bdist_egg\n",
            "running egg_info\n",
            "creating compyle.egg-info\n",
            "writing compyle.egg-info/PKG-INFO\n",
            "writing dependency_links to compyle.egg-info/dependency_links.txt\n",
            "writing requirements to compyle.egg-info/requires.txt\n",
            "writing top-level names to compyle.egg-info/top_level.txt\n",
            "writing manifest file 'compyle.egg-info/SOURCES.txt'\n",
            "reading manifest template 'MANIFEST.in'\n",
            "warning: no files found matching '*.yml'\n",
            "warning: no previously-included files matching '*.*' found under directory 'docs/build'\n",
            "warning: no previously-included files matching '*.png' found under directory 'examples/'\n",
            "warning: no previously-included files matching '__pycache__/*' found under directory 'examples/'\n",
            "warning: no previously-included files matching '.DS_Store' found under directory 'examples/'\n",
            "adding license file 'LICENSE.txt'\n",
            "writing manifest file 'compyle.egg-info/SOURCES.txt'\n",
            "installing library code to build/bdist.linux-x86_64/egg\n",
            "running install_lib\n",
            "running build_py\n",
            "creating build\n",
            "creating build/lib.linux-x86_64-3.7\n",
            "creating build/lib.linux-x86_64-3.7/compyle\n",
            "copying compyle/cuda.py -> build/lib.linux-x86_64-3.7/compyle\n",
            "copying compyle/cython_generator.py -> build/lib.linux-x86_64-3.7/compyle\n",
            "copying compyle/ast_utils.py -> build/lib.linux-x86_64-3.7/compyle\n",
            "copying compyle/utils.py -> build/lib.linux-x86_64-3.7/compyle\n",
            "copying compyle/capture_stream.py -> build/lib.linux-x86_64-3.7/compyle\n",
            "copying compyle/sort.py -> build/lib.linux-x86_64-3.7/compyle\n",
            "copying compyle/low_level.py -> build/lib.linux-x86_64-3.7/compyle\n",
            "copying compyle/api.py -> build/lib.linux-x86_64-3.7/compyle\n",
            "copying compyle/opencl.py -> build/lib.linux-x86_64-3.7/compyle\n",
            "copying compyle/translator.py -> build/lib.linux-x86_64-3.7/compyle\n",
            "copying compyle/__init__.py -> build/lib.linux-x86_64-3.7/compyle\n",
            "copying compyle/extern.py -> build/lib.linux-x86_64-3.7/compyle\n",
            "copying compyle/template.py -> build/lib.linux-x86_64-3.7/compyle\n",
            "copying compyle/config.py -> build/lib.linux-x86_64-3.7/compyle\n",
            "copying compyle/ext_module.py -> build/lib.linux-x86_64-3.7/compyle\n",
            "copying compyle/transpiler.py -> build/lib.linux-x86_64-3.7/compyle\n",
            "copying compyle/parallel.py -> build/lib.linux-x86_64-3.7/compyle\n",
            "copying compyle/types.py -> build/lib.linux-x86_64-3.7/compyle\n",
            "copying compyle/jit.py -> build/lib.linux-x86_64-3.7/compyle\n",
            "copying compyle/profile.py -> build/lib.linux-x86_64-3.7/compyle\n",
            "copying compyle/array.py -> build/lib.linux-x86_64-3.7/compyle\n",
            "creating build/lib.linux-x86_64-3.7/compyle/thrust\n",
            "copying compyle/thrust/__init__.py -> build/lib.linux-x86_64-3.7/compyle/thrust\n",
            "creating build/lib.linux-x86_64-3.7/compyle/tests\n",
            "copying compyle/tests/py3_code.py -> build/lib.linux-x86_64-3.7/compyle/tests\n",
            "copying compyle/tests/test_array.py -> build/lib.linux-x86_64-3.7/compyle/tests\n",
            "copying compyle/tests/test_ast_utils.py -> build/lib.linux-x86_64-3.7/compyle/tests\n",
            "copying compyle/tests/test_capture_stream.py -> build/lib.linux-x86_64-3.7/compyle/tests\n",
            "copying compyle/tests/test_types.py -> build/lib.linux-x86_64-3.7/compyle/tests\n",
            "copying compyle/tests/test_ext_module.py -> build/lib.linux-x86_64-3.7/compyle/tests\n",
            "copying compyle/tests/test_gpu_struct.py -> build/lib.linux-x86_64-3.7/compyle/tests\n",
            "copying compyle/tests/test_cuda.py -> build/lib.linux-x86_64-3.7/compyle/tests\n",
            "copying compyle/tests/test_low_level.py -> build/lib.linux-x86_64-3.7/compyle/tests\n",
            "copying compyle/tests/test_config.py -> build/lib.linux-x86_64-3.7/compyle/tests\n",
            "copying compyle/tests/__init__.py -> build/lib.linux-x86_64-3.7/compyle/tests\n",
            "copying compyle/tests/test_utils.py -> build/lib.linux-x86_64-3.7/compyle/tests\n",
            "copying compyle/tests/test_template.py -> build/lib.linux-x86_64-3.7/compyle/tests\n",
            "copying compyle/tests/test_parallel.py -> build/lib.linux-x86_64-3.7/compyle/tests\n",
            "copying compyle/tests/test_profile.py -> build/lib.linux-x86_64-3.7/compyle/tests\n",
            "copying compyle/tests/test_translator.py -> build/lib.linux-x86_64-3.7/compyle/tests\n",
            "copying compyle/tests/test_transpiler.py -> build/lib.linux-x86_64-3.7/compyle/tests\n",
            "copying compyle/tests/test_jit.py -> build/lib.linux-x86_64-3.7/compyle/tests\n",
            "copying compyle/tests/test_cython_generator.py -> build/lib.linux-x86_64-3.7/compyle/tests\n",
            "running build_ext\n",
            "building 'compyle.thrust.sort' extension\n",
            "creating build/temp.linux-x86_64-3.7\n",
            "creating build/temp.linux-x86_64-3.7/compyle\n",
            "creating build/temp.linux-x86_64-3.7/compyle/thrust\n",
            "x86_64-linux-gnu-gcc -pthread -Wno-unused-result -Wsign-compare -DNDEBUG -g -fwrapv -O2 -Wall -g -fdebug-prefix-map=/build/python3.7-Y7dWVB/python3.7-3.7.12=. -fstack-protector-strong -Wformat -Werror=format-security -g -fdebug-prefix-map=/build/python3.7-Y7dWVB/python3.7-3.7.12=. -fstack-protector-strong -Wformat -Werror=format-security -Wdate-time -D_FORTIFY_SOURCE=2 -fPIC -I/usr/include/python3.7m -c compyle/thrust/sort.cpp -o build/temp.linux-x86_64-3.7/compyle/thrust/sort.o\n",
            "x86_64-linux-gnu-g++ -pthread -shared -Wl,-O1 -Wl,-Bsymbolic-functions -Wl,-Bsymbolic-functions -Wl,-z,relro -Wl,-Bsymbolic-functions -Wl,-z,relro -g -fdebug-prefix-map=/build/python3.7-Y7dWVB/python3.7-3.7.12=. -fstack-protector-strong -Wformat -Werror=format-security -Wdate-time -D_FORTIFY_SOURCE=2 build/temp.linux-x86_64-3.7/compyle/thrust/sort.o -o build/lib.linux-x86_64-3.7/compyle/thrust/sort.cpython-37m-x86_64-linux-gnu.so\n",
            "creating build/bdist.linux-x86_64\n",
            "creating build/bdist.linux-x86_64/egg\n",
            "creating build/bdist.linux-x86_64/egg/compyle\n",
            "copying build/lib.linux-x86_64-3.7/compyle/cuda.py -> build/bdist.linux-x86_64/egg/compyle\n",
            "copying build/lib.linux-x86_64-3.7/compyle/cython_generator.py -> build/bdist.linux-x86_64/egg/compyle\n",
            "copying build/lib.linux-x86_64-3.7/compyle/ast_utils.py -> build/bdist.linux-x86_64/egg/compyle\n",
            "copying build/lib.linux-x86_64-3.7/compyle/utils.py -> build/bdist.linux-x86_64/egg/compyle\n",
            "copying build/lib.linux-x86_64-3.7/compyle/capture_stream.py -> build/bdist.linux-x86_64/egg/compyle\n",
            "copying build/lib.linux-x86_64-3.7/compyle/sort.py -> build/bdist.linux-x86_64/egg/compyle\n",
            "copying build/lib.linux-x86_64-3.7/compyle/low_level.py -> build/bdist.linux-x86_64/egg/compyle\n",
            "creating build/bdist.linux-x86_64/egg/compyle/thrust\n",
            "copying build/lib.linux-x86_64-3.7/compyle/thrust/__init__.py -> build/bdist.linux-x86_64/egg/compyle/thrust\n",
            "copying build/lib.linux-x86_64-3.7/compyle/thrust/sort.cpython-37m-x86_64-linux-gnu.so -> build/bdist.linux-x86_64/egg/compyle/thrust\n",
            "copying build/lib.linux-x86_64-3.7/compyle/api.py -> build/bdist.linux-x86_64/egg/compyle\n",
            "copying build/lib.linux-x86_64-3.7/compyle/opencl.py -> build/bdist.linux-x86_64/egg/compyle\n",
            "copying build/lib.linux-x86_64-3.7/compyle/translator.py -> build/bdist.linux-x86_64/egg/compyle\n",
            "creating build/bdist.linux-x86_64/egg/compyle/tests\n",
            "copying build/lib.linux-x86_64-3.7/compyle/tests/py3_code.py -> build/bdist.linux-x86_64/egg/compyle/tests\n",
            "copying build/lib.linux-x86_64-3.7/compyle/tests/test_array.py -> build/bdist.linux-x86_64/egg/compyle/tests\n",
            "copying build/lib.linux-x86_64-3.7/compyle/tests/test_ast_utils.py -> build/bdist.linux-x86_64/egg/compyle/tests\n",
            "copying build/lib.linux-x86_64-3.7/compyle/tests/test_capture_stream.py -> build/bdist.linux-x86_64/egg/compyle/tests\n",
            "copying build/lib.linux-x86_64-3.7/compyle/tests/test_types.py -> build/bdist.linux-x86_64/egg/compyle/tests\n",
            "copying build/lib.linux-x86_64-3.7/compyle/tests/test_ext_module.py -> build/bdist.linux-x86_64/egg/compyle/tests\n",
            "copying build/lib.linux-x86_64-3.7/compyle/tests/test_gpu_struct.py -> build/bdist.linux-x86_64/egg/compyle/tests\n",
            "copying build/lib.linux-x86_64-3.7/compyle/tests/test_cuda.py -> build/bdist.linux-x86_64/egg/compyle/tests\n",
            "copying build/lib.linux-x86_64-3.7/compyle/tests/test_low_level.py -> build/bdist.linux-x86_64/egg/compyle/tests\n",
            "copying build/lib.linux-x86_64-3.7/compyle/tests/test_config.py -> build/bdist.linux-x86_64/egg/compyle/tests\n",
            "copying build/lib.linux-x86_64-3.7/compyle/tests/__init__.py -> build/bdist.linux-x86_64/egg/compyle/tests\n",
            "copying build/lib.linux-x86_64-3.7/compyle/tests/test_utils.py -> build/bdist.linux-x86_64/egg/compyle/tests\n",
            "copying build/lib.linux-x86_64-3.7/compyle/tests/test_template.py -> build/bdist.linux-x86_64/egg/compyle/tests\n",
            "copying build/lib.linux-x86_64-3.7/compyle/tests/test_parallel.py -> build/bdist.linux-x86_64/egg/compyle/tests\n",
            "copying build/lib.linux-x86_64-3.7/compyle/tests/test_profile.py -> build/bdist.linux-x86_64/egg/compyle/tests\n",
            "copying build/lib.linux-x86_64-3.7/compyle/tests/test_translator.py -> build/bdist.linux-x86_64/egg/compyle/tests\n",
            "copying build/lib.linux-x86_64-3.7/compyle/tests/test_transpiler.py -> build/bdist.linux-x86_64/egg/compyle/tests\n",
            "copying build/lib.linux-x86_64-3.7/compyle/tests/test_jit.py -> build/bdist.linux-x86_64/egg/compyle/tests\n",
            "copying build/lib.linux-x86_64-3.7/compyle/tests/test_cython_generator.py -> build/bdist.linux-x86_64/egg/compyle/tests\n",
            "copying build/lib.linux-x86_64-3.7/compyle/__init__.py -> build/bdist.linux-x86_64/egg/compyle\n",
            "copying build/lib.linux-x86_64-3.7/compyle/extern.py -> build/bdist.linux-x86_64/egg/compyle\n",
            "copying build/lib.linux-x86_64-3.7/compyle/template.py -> build/bdist.linux-x86_64/egg/compyle\n",
            "copying build/lib.linux-x86_64-3.7/compyle/config.py -> build/bdist.linux-x86_64/egg/compyle\n",
            "copying build/lib.linux-x86_64-3.7/compyle/ext_module.py -> build/bdist.linux-x86_64/egg/compyle\n",
            "copying build/lib.linux-x86_64-3.7/compyle/transpiler.py -> build/bdist.linux-x86_64/egg/compyle\n",
            "copying build/lib.linux-x86_64-3.7/compyle/parallel.py -> build/bdist.linux-x86_64/egg/compyle\n",
            "copying build/lib.linux-x86_64-3.7/compyle/types.py -> build/bdist.linux-x86_64/egg/compyle\n",
            "copying build/lib.linux-x86_64-3.7/compyle/jit.py -> build/bdist.linux-x86_64/egg/compyle\n",
            "copying build/lib.linux-x86_64-3.7/compyle/profile.py -> build/bdist.linux-x86_64/egg/compyle\n",
            "copying build/lib.linux-x86_64-3.7/compyle/array.py -> build/bdist.linux-x86_64/egg/compyle\n",
            "byte-compiling build/bdist.linux-x86_64/egg/compyle/cuda.py to cuda.cpython-37.pyc\n",
            "byte-compiling build/bdist.linux-x86_64/egg/compyle/cython_generator.py to cython_generator.cpython-37.pyc\n",
            "byte-compiling build/bdist.linux-x86_64/egg/compyle/ast_utils.py to ast_utils.cpython-37.pyc\n",
            "byte-compiling build/bdist.linux-x86_64/egg/compyle/utils.py to utils.cpython-37.pyc\n",
            "byte-compiling build/bdist.linux-x86_64/egg/compyle/capture_stream.py to capture_stream.cpython-37.pyc\n",
            "byte-compiling build/bdist.linux-x86_64/egg/compyle/sort.py to sort.cpython-37.pyc\n",
            "byte-compiling build/bdist.linux-x86_64/egg/compyle/low_level.py to low_level.cpython-37.pyc\n",
            "byte-compiling build/bdist.linux-x86_64/egg/compyle/thrust/__init__.py to __init__.cpython-37.pyc\n",
            "byte-compiling build/bdist.linux-x86_64/egg/compyle/api.py to api.cpython-37.pyc\n",
            "byte-compiling build/bdist.linux-x86_64/egg/compyle/opencl.py to opencl.cpython-37.pyc\n",
            "byte-compiling build/bdist.linux-x86_64/egg/compyle/translator.py to translator.cpython-37.pyc\n",
            "byte-compiling build/bdist.linux-x86_64/egg/compyle/tests/py3_code.py to py3_code.cpython-37.pyc\n",
            "byte-compiling build/bdist.linux-x86_64/egg/compyle/tests/test_array.py to test_array.cpython-37.pyc\n",
            "byte-compiling build/bdist.linux-x86_64/egg/compyle/tests/test_ast_utils.py to test_ast_utils.cpython-37.pyc\n",
            "byte-compiling build/bdist.linux-x86_64/egg/compyle/tests/test_capture_stream.py to test_capture_stream.cpython-37.pyc\n",
            "byte-compiling build/bdist.linux-x86_64/egg/compyle/tests/test_types.py to test_types.cpython-37.pyc\n",
            "byte-compiling build/bdist.linux-x86_64/egg/compyle/tests/test_ext_module.py to test_ext_module.cpython-37.pyc\n",
            "byte-compiling build/bdist.linux-x86_64/egg/compyle/tests/test_gpu_struct.py to test_gpu_struct.cpython-37.pyc\n",
            "byte-compiling build/bdist.linux-x86_64/egg/compyle/tests/test_cuda.py to test_cuda.cpython-37.pyc\n",
            "byte-compiling build/bdist.linux-x86_64/egg/compyle/tests/test_low_level.py to test_low_level.cpython-37.pyc\n",
            "byte-compiling build/bdist.linux-x86_64/egg/compyle/tests/test_config.py to test_config.cpython-37.pyc\n",
            "byte-compiling build/bdist.linux-x86_64/egg/compyle/tests/__init__.py to __init__.cpython-37.pyc\n",
            "byte-compiling build/bdist.linux-x86_64/egg/compyle/tests/test_utils.py to test_utils.cpython-37.pyc\n",
            "byte-compiling build/bdist.linux-x86_64/egg/compyle/tests/test_template.py to test_template.cpython-37.pyc\n",
            "byte-compiling build/bdist.linux-x86_64/egg/compyle/tests/test_parallel.py to test_parallel.cpython-37.pyc\n",
            "byte-compiling build/bdist.linux-x86_64/egg/compyle/tests/test_profile.py to test_profile.cpython-37.pyc\n",
            "byte-compiling build/bdist.linux-x86_64/egg/compyle/tests/test_translator.py to test_translator.cpython-37.pyc\n",
            "byte-compiling build/bdist.linux-x86_64/egg/compyle/tests/test_transpiler.py to test_transpiler.cpython-37.pyc\n",
            "byte-compiling build/bdist.linux-x86_64/egg/compyle/tests/test_jit.py to test_jit.cpython-37.pyc\n",
            "byte-compiling build/bdist.linux-x86_64/egg/compyle/tests/test_cython_generator.py to test_cython_generator.cpython-37.pyc\n",
            "byte-compiling build/bdist.linux-x86_64/egg/compyle/__init__.py to __init__.cpython-37.pyc\n",
            "byte-compiling build/bdist.linux-x86_64/egg/compyle/extern.py to extern.cpython-37.pyc\n",
            "byte-compiling build/bdist.linux-x86_64/egg/compyle/template.py to template.cpython-37.pyc\n",
            "byte-compiling build/bdist.linux-x86_64/egg/compyle/config.py to config.cpython-37.pyc\n",
            "byte-compiling build/bdist.linux-x86_64/egg/compyle/ext_module.py to ext_module.cpython-37.pyc\n",
            "byte-compiling build/bdist.linux-x86_64/egg/compyle/transpiler.py to transpiler.cpython-37.pyc\n",
            "byte-compiling build/bdist.linux-x86_64/egg/compyle/parallel.py to parallel.cpython-37.pyc\n",
            "byte-compiling build/bdist.linux-x86_64/egg/compyle/types.py to types.cpython-37.pyc\n",
            "byte-compiling build/bdist.linux-x86_64/egg/compyle/jit.py to jit.cpython-37.pyc\n",
            "byte-compiling build/bdist.linux-x86_64/egg/compyle/profile.py to profile.cpython-37.pyc\n",
            "byte-compiling build/bdist.linux-x86_64/egg/compyle/array.py to array.cpython-37.pyc\n",
            "creating stub loader for compyle/thrust/sort.cpython-37m-x86_64-linux-gnu.so\n",
            "byte-compiling build/bdist.linux-x86_64/egg/compyle/thrust/sort.py to sort.cpython-37.pyc\n",
            "creating build/bdist.linux-x86_64/egg/EGG-INFO\n",
            "copying compyle.egg-info/PKG-INFO -> build/bdist.linux-x86_64/egg/EGG-INFO\n",
            "copying compyle.egg-info/SOURCES.txt -> build/bdist.linux-x86_64/egg/EGG-INFO\n",
            "copying compyle.egg-info/dependency_links.txt -> build/bdist.linux-x86_64/egg/EGG-INFO\n",
            "copying compyle.egg-info/requires.txt -> build/bdist.linux-x86_64/egg/EGG-INFO\n",
            "copying compyle.egg-info/top_level.txt -> build/bdist.linux-x86_64/egg/EGG-INFO\n",
            "writing build/bdist.linux-x86_64/egg/EGG-INFO/native_libs.txt\n",
            "zip_safe flag not set; analyzing archive contents...\n",
            "compyle.__pycache__.ext_module.cpython-37: module references __file__\n",
            "compyle.__pycache__.template.cpython-37: module MAY be using inspect.getsource\n",
            "compyle.__pycache__.utils.cpython-37: module MAY be using inspect.getsource\n",
            "compyle.tests.__pycache__.test_utils.cpython-37: module MAY be using inspect.getsource\n",
            "compyle.thrust.__pycache__.sort.cpython-37: module references __file__\n",
            "creating dist\n",
            "creating 'dist/compyle-0.9.dev0-py3.7-linux-x86_64.egg' and adding 'build/bdist.linux-x86_64/egg' to it\n",
            "removing 'build/bdist.linux-x86_64/egg' (and everything under it)\n",
            "Processing compyle-0.9.dev0-py3.7-linux-x86_64.egg\n",
            "removing '/usr/local/lib/python3.7/dist-packages/compyle-0.9.dev0-py3.7-linux-x86_64.egg' (and everything under it)\n",
            "creating /usr/local/lib/python3.7/dist-packages/compyle-0.9.dev0-py3.7-linux-x86_64.egg\n",
            "Extracting compyle-0.9.dev0-py3.7-linux-x86_64.egg to /usr/local/lib/python3.7/dist-packages\n",
            "compyle 0.9.dev0 is already the active version in easy-install.pth\n",
            "\n",
            "Installed /usr/local/lib/python3.7/dist-packages/compyle-0.9.dev0-py3.7-linux-x86_64.egg\n",
            "Processing dependencies for compyle==0.9.dev0\n",
            "Searching for numpy==1.19.5\n",
            "Best match: numpy 1.19.5\n",
            "Adding numpy 1.19.5 to easy-install.pth file\n",
            "Installing f2py script to /usr/local/bin\n",
            "Installing f2py3 script to /usr/local/bin\n",
            "Installing f2py3.7 script to /usr/local/bin\n",
            "\n",
            "Using /usr/local/lib/python3.7/dist-packages\n",
            "Searching for Cython==0.29.24\n",
            "Best match: Cython 0.29.24\n",
            "Adding Cython 0.29.24 to easy-install.pth file\n",
            "Installing cygdb script to /usr/local/bin\n",
            "Installing cython script to /usr/local/bin\n",
            "Installing cythonize script to /usr/local/bin\n",
            "\n",
            "Using /usr/local/lib/python3.7/dist-packages\n",
            "Searching for pytools==2021.2.9\n",
            "Best match: pytools 2021.2.9\n",
            "Adding pytools 2021.2.9 to easy-install.pth file\n",
            "\n",
            "Using /usr/local/lib/python3.7/dist-packages\n",
            "Searching for Mako==1.1.6\n",
            "Best match: Mako 1.1.6\n",
            "Adding Mako 1.1.6 to easy-install.pth file\n",
            "Installing mako-render script to /usr/local/bin\n",
            "\n",
            "Using /usr/local/lib/python3.7/dist-packages\n",
            "Searching for appdirs==1.4.4\n",
            "Best match: appdirs 1.4.4\n",
            "Adding appdirs 1.4.4 to easy-install.pth file\n",
            "\n",
            "Using /usr/local/lib/python3.7/dist-packages\n",
            "Searching for MarkupSafe==2.0.1\n",
            "Best match: MarkupSafe 2.0.1\n",
            "Adding MarkupSafe 2.0.1 to easy-install.pth file\n",
            "\n",
            "Using /usr/local/lib/python3.7/dist-packages\n",
            "Finished processing dependencies for compyle==0.9.dev0\n"
          ]
        }
      ]
    },
    {
      "cell_type": "code",
      "source": [
        "import pandas as pd\n",
        "import numpy as np\n",
        "import matplotlib.pyplot as plt\n"
      ],
      "metadata": {
        "id": "xEDX50U7FUDJ"
      },
      "execution_count": 10,
      "outputs": []
    },
    {
      "cell_type": "code",
      "source": [
        "from google.colab import drive\n",
        "drive.mount('/gdrive')"
      ],
      "metadata": {
        "colab": {
          "base_uri": "https://localhost:8080/"
        },
        "id": "fKXbC_QQSfvg",
        "outputId": "67e4ecaf-f7b2-47d7-952d-dec568ffd18d"
      },
      "execution_count": 5,
      "outputs": [
        {
          "output_type": "stream",
          "name": "stdout",
          "text": [
            "Mounted at /gdrive\n"
          ]
        }
      ]
    },
    {
      "cell_type": "code",
      "source": [
        "with open('/gdrive/My Drive/foo.txt', 'w') as f:\n",
        "  f.write('Hello Google Drive!')\n",
        "!cat '/gdrive/My Drive/foo.txt'"
      ],
      "metadata": {
        "colab": {
          "base_uri": "https://localhost:8080/"
        },
        "id": "o9cQ50EsSfvv",
        "outputId": "7b30423c-4c96-4911-8fa9-e811047ed29c"
      },
      "execution_count": 6,
      "outputs": [
        {
          "output_type": "stream",
          "name": "stdout",
          "text": [
            "Hello Google Drive!"
          ]
        }
      ]
    },
    {
      "cell_type": "code",
      "source": [
        "cd gdrive/"
      ],
      "metadata": {
        "colab": {
          "base_uri": "https://localhost:8080/"
        },
        "id": "BY3cRhEISJZT",
        "outputId": "46ba32b2-07c9-4bb7-9f3b-d15a2ea410b5"
      },
      "execution_count": 7,
      "outputs": [
        {
          "output_type": "stream",
          "name": "stdout",
          "text": [
            "[Errno 2] No such file or directory: 'gdrive/'\n",
            "/content\n"
          ]
        }
      ]
    },
    {
      "cell_type": "code",
      "source": [
        "ls"
      ],
      "metadata": {
        "colab": {
          "base_uri": "https://localhost:8080/"
        },
        "id": "cMGAIJAzS_30",
        "outputId": "a1417a7a-8f2a-44fa-8ac7-ef58182c131e"
      },
      "execution_count": 8,
      "outputs": [
        {
          "output_type": "stream",
          "name": "stdout",
          "text": [
            "\u001b[0m\u001b[01;34msample_data\u001b[0m/\n"
          ]
        }
      ]
    },
    {
      "cell_type": "code",
      "source": [
        "books = pd.read_csv('/gdrive/MyDrive/BX-Books.csv', sep=';', error_bad_lines=False, encoding=\"latin-1\")"
      ],
      "metadata": {
        "colab": {
          "base_uri": "https://localhost:8080/"
        },
        "id": "fNp0WdlZJOX-",
        "outputId": "80fe4cbd-98ed-493c-b79b-70bfd3720200"
      },
      "execution_count": 12,
      "outputs": [
        {
          "output_type": "stream",
          "name": "stderr",
          "text": [
            "b'Skipping line 6452: expected 8 fields, saw 9\\nSkipping line 43667: expected 8 fields, saw 10\\nSkipping line 51751: expected 8 fields, saw 9\\n'\n",
            "b'Skipping line 92038: expected 8 fields, saw 9\\nSkipping line 104319: expected 8 fields, saw 9\\nSkipping line 121768: expected 8 fields, saw 9\\n'\n",
            "b'Skipping line 144058: expected 8 fields, saw 9\\nSkipping line 150789: expected 8 fields, saw 9\\nSkipping line 157128: expected 8 fields, saw 9\\nSkipping line 180189: expected 8 fields, saw 9\\nSkipping line 185738: expected 8 fields, saw 9\\n'\n",
            "b'Skipping line 209388: expected 8 fields, saw 9\\nSkipping line 220626: expected 8 fields, saw 9\\nSkipping line 227933: expected 8 fields, saw 11\\nSkipping line 228957: expected 8 fields, saw 10\\nSkipping line 245933: expected 8 fields, saw 9\\nSkipping line 251296: expected 8 fields, saw 9\\nSkipping line 259941: expected 8 fields, saw 9\\nSkipping line 261529: expected 8 fields, saw 9\\n'\n",
            "/usr/local/lib/python3.7/dist-packages/IPython/core/interactiveshell.py:2718: DtypeWarning: Columns (3) have mixed types.Specify dtype option on import or set low_memory=False.\n",
            "  interactivity=interactivity, compiler=compiler, result=result)\n"
          ]
        }
      ]
    },
    {
      "cell_type": "code",
      "source": [
        "books.columns = ['ISBN', 'bookTitle', 'bookAuthor', 'yearOfPublication', 'publisher', 'imageUrlS', 'imageUrlM', 'imageUrlL']"
      ],
      "metadata": {
        "id": "dgdI_6XZQ2li"
      },
      "execution_count": 13,
      "outputs": []
    },
    {
      "cell_type": "code",
      "source": [
        "users = pd.read_csv('/gdrive/MyDrive/BX-Users.csv', sep=';', error_bad_lines=False, encoding=\"latin-1\")\n"
      ],
      "metadata": {
        "id": "5QjQuBD0Nj-r"
      },
      "execution_count": 15,
      "outputs": []
    },
    {
      "cell_type": "code",
      "source": [
        "users.columns = ['userID', 'Location', 'Age']"
      ],
      "metadata": {
        "id": "Wohe5cqqQ8lT"
      },
      "execution_count": 16,
      "outputs": []
    },
    {
      "cell_type": "code",
      "source": [
        "ratings = pd.read_csv('/gdrive/MyDrive/BX-Book-Ratings.csv', sep=';', error_bad_lines=False, encoding=\"latin-1\")\n"
      ],
      "metadata": {
        "id": "LsM3VA7mUZCi"
      },
      "execution_count": 17,
      "outputs": []
    },
    {
      "cell_type": "code",
      "source": [
        "ratings.columns = ['userID', 'ISBN', 'bookRating']"
      ],
      "metadata": {
        "id": "k6osiYixUqRc"
      },
      "execution_count": 18,
      "outputs": []
    },
    {
      "cell_type": "code",
      "source": [
        "print(ratings.shape)\n",
        "print(list(ratings.columns))"
      ],
      "metadata": {
        "colab": {
          "base_uri": "https://localhost:8080/"
        },
        "id": "0RpgEgFBVbaW",
        "outputId": "173cf7fc-0c54-48ef-8793-142b7bb021d8"
      },
      "execution_count": 19,
      "outputs": [
        {
          "output_type": "stream",
          "name": "stdout",
          "text": [
            "(1149780, 3)\n",
            "['userID', 'ISBN', 'bookRating']\n"
          ]
        }
      ]
    },
    {
      "cell_type": "code",
      "source": [
        "plt.rc(\"font\", size =15)\n",
        "ratings.bookRating.value_counts(sort=False).plot(kind='bar')\n",
        "plt.title('Rating Distribution\\n')\n",
        "plt.xlabel('Rating')\n",
        "plt.ylabel('Count')\n",
        "\n",
        "plt.show()"
      ],
      "metadata": {
        "id": "zLrOCwcCWHS2",
        "colab": {
          "base_uri": "https://localhost:8080/",
          "height": 334
        },
        "outputId": "fe587acc-df41-424e-d434-3508249398df"
      },
      "execution_count": 20,
      "outputs": [
        {
          "output_type": "display_data",
          "data": {
            "image/png": "[encoded data removed]",
            "text/plain": [
              "<Figure size 432x288 with 1 Axes>"
            ]
          },
          "metadata": {
            "needs_background": "light"
          }
        }
      ]
    },
    {
      "cell_type": "code",
      "source": [
        "plt.savefig('/gdrive/MyDrive/plot.png', bbox_inches ='tight')"
      ],
      "metadata": {
        "id": "l0EJ96HfYJb9",
        "colab": {
          "base_uri": "https://localhost:8080/",
          "height": 34
        },
        "outputId": "188094f8-1171-40c9-cd2b-13ad83124df1"
      },
      "execution_count": 22,
      "outputs": [
        {
          "output_type": "display_data",
          "data": {
            "text/plain": [
              "<Figure size 432x288 with 0 Axes>"
            ]
          },
          "metadata": {}
        }
      ]
    },
    {
      "cell_type": "code",
      "source": [
        "plt.show()\n"
      ],
      "metadata": {
        "id": "1o58myMxZrHU"
      },
      "execution_count": 25,
      "outputs": []
    },
    {
      "cell_type": "code",
      "source": [
        "import matplotlib.pyplot as plt"
      ],
      "metadata": {
        "id": "MzPxuyf8aBX9"
      },
      "execution_count": 26,
      "outputs": []
    },
    {
      "cell_type": "code",
      "source": [
        "plt.rc(\"font\", size =15)\n",
        "ratings.bookRating.value_counts(sort=False).plot(kind='bar')\n",
        "plt.title('Rating Distribution\\n')\n",
        "plt.xlabel('Rating')\n",
        "plt.ylabel('Count')\n",
        "plt.savefig('/gdrive/MyDrive/plot.png', bbox_inches ='tight')\n",
        "plt.show()"
      ],
      "metadata": {
        "id": "4f6Gi6QxaFIH",
        "colab": {
          "base_uri": "https://localhost:8080/",
          "height": 334
        },
        "outputId": "46e5cf5c-bc5d-4545-c614-12a5b7d97c8a"
      },
      "execution_count": 28,
      "outputs": [
        {
          "output_type": "display_data",
          "data": {
            "image/png": "[encoded data removed]",
            "text/plain": [
              "<Figure size 432x288 with 1 Axes>"
            ]
          },
          "metadata": {
            "needs_background": "light"
          }
        }
      ]
    },
    {
      "cell_type": "code",
      "source": [
        "print(books.shape)\n",
        "print(list(books.columns))"
      ],
      "metadata": {
        "colab": {
          "base_uri": "https://localhost:8080/"
        },
        "id": "lhdejsMmaQig",
        "outputId": "696e417c-7fbc-43bb-994f-6fbeb700abbf"
      },
      "execution_count": 29,
      "outputs": [
        {
          "output_type": "stream",
          "name": "stdout",
          "text": [
            "(271360, 8)\n",
            "['ISBN', 'bookTitle', 'bookAuthor', 'yearOfPublication', 'publisher', 'imageUrlS', 'imageUrlM', 'imageUrlL']\n"
          ]
        }
      ]
    },
    {
      "cell_type": "code",
      "source": [
        "print(users.shape)\n",
        "print(list(users.columns))"
      ],
      "metadata": {
        "colab": {
          "base_uri": "https://localhost:8080/"
        },
        "id": "oJjBwCHKakFm",
        "outputId": "0cbeda80-3444-49dd-da7b-9b04ff2acbeb"
      },
      "execution_count": 30,
      "outputs": [
        {
          "output_type": "stream",
          "name": "stdout",
          "text": [
            "(278858, 3)\n",
            "['userID', 'Location', 'Age']\n"
          ]
        }
      ]
    },
    {
      "cell_type": "code",
      "source": [
        "users.Age.hist(bins=[0, 10, 20, 30, 40, 50, 100])\n",
        "plt.title('Age Distribution\\n')\n",
        "plt.xlabel('Age')\n",
        "plt.ylabel('Count')\n",
        "plt.savefig('/gdrive/MyDrive/plot1.png', bbox_inches ='tight')\n",
        "plt.show()"
      ],
      "metadata": {
        "id": "ZPXErCpgbPlp",
        "colab": {
          "base_uri": "https://localhost:8080/",
          "height": 330
        },
        "outputId": "a797dce0-d77d-457f-c9ac-e169f6a244b9"
      },
      "execution_count": 31,
      "outputs": [
        {
          "output_type": "display_data",
          "data": {
            "image/png": "[encoded data removed]",
            "text/plain": [
              "<Figure size 432x288 with 1 Axes>"
            ]
          },
          "metadata": {
            "needs_background": "light"
          }
        }
      ]
    },
    {
      "cell_type": "markdown",
      "source": [
        "**To ensure statistical significance, users with less than 200 ratings, and books with less than 100 ratings are excluded**"
      ],
      "metadata": {
        "id": "fhPn2fxae0A2"
      }
    },
    {
      "cell_type": "code",
      "source": [
        "counts1 = ratings['userID'].value_counts()\n",
        "ratings = ratings[ratings['userID'].isin(counts1[counts1 >= 200].index)]\n",
        "counts = ratings['bookRating'].value_counts()\n",
        "ratings = ratings[ratings['bookRating'].isin(counts[counts >= 100].index)]"
      ],
      "metadata": {
        "id": "RHYn5aLCfF6p"
      },
      "execution_count": 32,
      "outputs": []
    },
    {
      "cell_type": "markdown",
      "source": [
        "**Collaborative Filtering Using k-Nearest Neighbors(kNN)**"
      ],
      "metadata": {
        "id": "1om94SaMgd-g"
      }
    },
    {
      "cell_type": "markdown",
      "source": [
        "kNN is a machine learning algorithm to find clusters of similar users based on common book ratings, and make predictions using the average rating of top-k nearest neighbors. For example, we first present ratings in a matrix with the matrix having one row for each item(book) and one column for each user."
      ],
      "metadata": {
        "id": "WUarHQpWgwVf"
      }
    },
    {
      "cell_type": "code",
      "source": [
        "combine_book_rating = pd.merge(ratings, books, on='ISBN')\n",
        "columns = ['yearOfPublication', 'publisher', 'bookAuthor', 'imageUrlS', 'imageUrlM', 'imageUrlL']\n",
        "combine_book_rating = combine_book_rating.drop(columns, axis=1)\n",
        "combine_book_rating.head()"
      ],
      "metadata": {
        "colab": {
          "base_uri": "https://localhost:8080/",
          "height": 206
        },
        "id": "cDu-vJtkhYMi",
        "outputId": "2273500f-974d-4c33-c96d-58dff630bae0"
      },
      "execution_count": 33,
      "outputs": [
        {
          "output_type": "execute_result",
          "data": {
            "text/html": [
              "<div>\n",
              "<style scoped>\n",
              "    .dataframe tbody tr th:only-of-type {\n",
              "        vertical-align: middle;\n",
              "    }\n",
              "\n",
              "    .dataframe tbody tr th {\n",
              "        vertical-align: top;\n",
              "    }\n",
              "\n",
              "    .dataframe thead th {\n",
              "        text-align: right;\n",
              "    }\n",
              "</style>\n",
              "<table border=\"1\" class=\"dataframe\">\n",
              "  <thead>\n",
              "    <tr style=\"text-align: right;\">\n",
              "      <th></th>\n",
              "      <th>userID</th>\n",
              "      <th>ISBN</th>\n",
              "      <th>bookRating</th>\n",
              "      <th>bookTitle</th>\n",
              "    </tr>\n",
              "  </thead>\n",
              "  <tbody>\n",
              "    <tr>\n",
              "      <th>0</th>\n",
              "      <td>277427</td>\n",
              "      <td>002542730X</td>\n",
              "      <td>10</td>\n",
              "      <td>Politically Correct Bedtime Stories: Modern Ta...</td>\n",
              "    </tr>\n",
              "    <tr>\n",
              "      <th>1</th>\n",
              "      <td>3363</td>\n",
              "      <td>002542730X</td>\n",
              "      <td>0</td>\n",
              "      <td>Politically Correct Bedtime Stories: Modern Ta...</td>\n",
              "    </tr>\n",
              "    <tr>\n",
              "      <th>2</th>\n",
              "      <td>11676</td>\n",
              "      <td>002542730X</td>\n",
              "      <td>6</td>\n",
              "      <td>Politically Correct Bedtime Stories: Modern Ta...</td>\n",
              "    </tr>\n",
              "    <tr>\n",
              "      <th>3</th>\n",
              "      <td>12538</td>\n",
              "      <td>002542730X</td>\n",
              "      <td>10</td>\n",
              "      <td>Politically Correct Bedtime Stories: Modern Ta...</td>\n",
              "    </tr>\n",
              "    <tr>\n",
              "      <th>4</th>\n",
              "      <td>13552</td>\n",
              "      <td>002542730X</td>\n",
              "      <td>0</td>\n",
              "      <td>Politically Correct Bedtime Stories: Modern Ta...</td>\n",
              "    </tr>\n",
              "  </tbody>\n",
              "</table>\n",
              "</div>"
            ],
            "text/plain": [
              "   userID  ...                                          bookTitle\n",
              "0  277427  ...  Politically Correct Bedtime Stories: Modern Ta...\n",
              "1    3363  ...  Politically Correct Bedtime Stories: Modern Ta...\n",
              "2   11676  ...  Politically Correct Bedtime Stories: Modern Ta...\n",
              "3   12538  ...  Politically Correct Bedtime Stories: Modern Ta...\n",
              "4   13552  ...  Politically Correct Bedtime Stories: Modern Ta...\n",
              "\n",
              "[5 rows x 4 columns]"
            ]
          },
          "metadata": {},
          "execution_count": 33
        }
      ]
    },
    {
      "cell_type": "markdown",
      "source": [
        "We then group by book titles and create a new column for total rating count"
      ],
      "metadata": {
        "id": "1t50ctjBiqYK"
      }
    },
    {
      "cell_type": "code",
      "source": [
        "combine_book_rating = combine_book_rating.dropna(axis =0, subset =['bookTitle'])\n",
        "\n",
        "book_ratingCount = (combine_book_rating.groupby(by = ['bookTitle'])['bookRating'].count().reset_index().rename(columns = {'bookRating': 'totalRatingCount'})[['bookTitle', 'totalRatingCount']])\n",
        "book_ratingCount.head()"
      ],
      "metadata": {
        "colab": {
          "base_uri": "https://localhost:8080/",
          "height": 206
        },
        "id": "HebGM_TujHSe",
        "outputId": "35381c8e-b56a-4f6b-b55d-7c088bb4c2ba"
      },
      "execution_count": 34,
      "outputs": [
        {
          "output_type": "execute_result",
          "data": {
            "text/html": [
              "<div>\n",
              "<style scoped>\n",
              "    .dataframe tbody tr th:only-of-type {\n",
              "        vertical-align: middle;\n",
              "    }\n",
              "\n",
              "    .dataframe tbody tr th {\n",
              "        vertical-align: top;\n",
              "    }\n",
              "\n",
              "    .dataframe thead th {\n",
              "        text-align: right;\n",
              "    }\n",
              "</style>\n",
              "<table border=\"1\" class=\"dataframe\">\n",
              "  <thead>\n",
              "    <tr style=\"text-align: right;\">\n",
              "      <th></th>\n",
              "      <th>bookTitle</th>\n",
              "      <th>totalRatingCount</th>\n",
              "    </tr>\n",
              "  </thead>\n",
              "  <tbody>\n",
              "    <tr>\n",
              "      <th>0</th>\n",
              "      <td>A Light in the Storm: The Civil War Diary of ...</td>\n",
              "      <td>2</td>\n",
              "    </tr>\n",
              "    <tr>\n",
              "      <th>1</th>\n",
              "      <td>Always Have Popsicles</td>\n",
              "      <td>1</td>\n",
              "    </tr>\n",
              "    <tr>\n",
              "      <th>2</th>\n",
              "      <td>Apple Magic (The Collector's series)</td>\n",
              "      <td>1</td>\n",
              "    </tr>\n",
              "    <tr>\n",
              "      <th>3</th>\n",
              "      <td>Beyond IBM: Leadership Marketing and Finance ...</td>\n",
              "      <td>1</td>\n",
              "    </tr>\n",
              "    <tr>\n",
              "      <th>4</th>\n",
              "      <td>Clifford Visita El Hospital (Clifford El Gran...</td>\n",
              "      <td>1</td>\n",
              "    </tr>\n",
              "  </tbody>\n",
              "</table>\n",
              "</div>"
            ],
            "text/plain": [
              "                                           bookTitle  totalRatingCount\n",
              "0   A Light in the Storm: The Civil War Diary of ...                 2\n",
              "1                              Always Have Popsicles                 1\n",
              "2               Apple Magic (The Collector's series)                 1\n",
              "3   Beyond IBM: Leadership Marketing and Finance ...                 1\n",
              "4   Clifford Visita El Hospital (Clifford El Gran...                 1"
            ]
          },
          "metadata": {},
          "execution_count": 34
        }
      ]
    },
    {
      "cell_type": "markdown",
      "source": [
        "We combine the rating data with the total rating count data, this gives us exactly what we need to find out , which books are popular and filter out lesser known books"
      ],
      "metadata": {
        "id": "3D5UwuwEk_Ls"
      }
    },
    {
      "cell_type": "code",
      "source": [
        "rating_with_totalRatingCount = combine_book_rating.merge(book_ratingCount, left_on = 'bookTitle', right_on = 'bookTitle', how = 'left' )\n",
        "rating_with_totalRatingCount.head()"
      ],
      "metadata": {
        "colab": {
          "base_uri": "https://localhost:8080/",
          "height": 206
        },
        "id": "vCl1sWB_lTH2",
        "outputId": "b76a9192-c823-451b-9a0b-96747cb0f5a3"
      },
      "execution_count": 35,
      "outputs": [
        {
          "output_type": "execute_result",
          "data": {
            "text/html": [
              "<div>\n",
              "<style scoped>\n",
              "    .dataframe tbody tr th:only-of-type {\n",
              "        vertical-align: middle;\n",
              "    }\n",
              "\n",
              "    .dataframe tbody tr th {\n",
              "        vertical-align: top;\n",
              "    }\n",
              "\n",
              "    .dataframe thead th {\n",
              "        text-align: right;\n",
              "    }\n",
              "</style>\n",
              "<table border=\"1\" class=\"dataframe\">\n",
              "  <thead>\n",
              "    <tr style=\"text-align: right;\">\n",
              "      <th></th>\n",
              "      <th>userID</th>\n",
              "      <th>ISBN</th>\n",
              "      <th>bookRating</th>\n",
              "      <th>bookTitle</th>\n",
              "      <th>totalRatingCount</th>\n",
              "    </tr>\n",
              "  </thead>\n",
              "  <tbody>\n",
              "    <tr>\n",
              "      <th>0</th>\n",
              "      <td>277427</td>\n",
              "      <td>002542730X</td>\n",
              "      <td>10</td>\n",
              "      <td>Politically Correct Bedtime Stories: Modern Ta...</td>\n",
              "      <td>82</td>\n",
              "    </tr>\n",
              "    <tr>\n",
              "      <th>1</th>\n",
              "      <td>3363</td>\n",
              "      <td>002542730X</td>\n",
              "      <td>0</td>\n",
              "      <td>Politically Correct Bedtime Stories: Modern Ta...</td>\n",
              "      <td>82</td>\n",
              "    </tr>\n",
              "    <tr>\n",
              "      <th>2</th>\n",
              "      <td>11676</td>\n",
              "      <td>002542730X</td>\n",
              "      <td>6</td>\n",
              "      <td>Politically Correct Bedtime Stories: Modern Ta...</td>\n",
              "      <td>82</td>\n",
              "    </tr>\n",
              "    <tr>\n",
              "      <th>3</th>\n",
              "      <td>12538</td>\n",
              "      <td>002542730X</td>\n",
              "      <td>10</td>\n",
              "      <td>Politically Correct Bedtime Stories: Modern Ta...</td>\n",
              "      <td>82</td>\n",
              "    </tr>\n",
              "    <tr>\n",
              "      <th>4</th>\n",
              "      <td>13552</td>\n",
              "      <td>002542730X</td>\n",
              "      <td>0</td>\n",
              "      <td>Politically Correct Bedtime Stories: Modern Ta...</td>\n",
              "      <td>82</td>\n",
              "    </tr>\n",
              "  </tbody>\n",
              "</table>\n",
              "</div>"
            ],
            "text/plain": [
              "   userID  ... totalRatingCount\n",
              "0  277427  ...               82\n",
              "1    3363  ...               82\n",
              "2   11676  ...               82\n",
              "3   12538  ...               82\n",
              "4   13552  ...               82\n",
              "\n",
              "[5 rows x 5 columns]"
            ]
          },
          "metadata": {},
          "execution_count": 35
        }
      ]
    },
    {
      "cell_type": "code",
      "source": [
        "popularity_threshold = 50\n",
        "rating_popular_book = rating_with_totalRatingCount.query('totalRatingCount >= @popularity_threshold')\n",
        "rating_popular_book.head()"
      ],
      "metadata": {
        "colab": {
          "base_uri": "https://localhost:8080/",
          "height": 206
        },
        "id": "27IMYMlkmQgG",
        "outputId": "737d1fb7-9025-4232-b65c-171a809ce15b"
      },
      "execution_count": 36,
      "outputs": [
        {
          "output_type": "execute_result",
          "data": {
            "text/html": [
              "<div>\n",
              "<style scoped>\n",
              "    .dataframe tbody tr th:only-of-type {\n",
              "        vertical-align: middle;\n",
              "    }\n",
              "\n",
              "    .dataframe tbody tr th {\n",
              "        vertical-align: top;\n",
              "    }\n",
              "\n",
              "    .dataframe thead th {\n",
              "        text-align: right;\n",
              "    }\n",
              "</style>\n",
              "<table border=\"1\" class=\"dataframe\">\n",
              "  <thead>\n",
              "    <tr style=\"text-align: right;\">\n",
              "      <th></th>\n",
              "      <th>userID</th>\n",
              "      <th>ISBN</th>\n",
              "      <th>bookRating</th>\n",
              "      <th>bookTitle</th>\n",
              "      <th>totalRatingCount</th>\n",
              "    </tr>\n",
              "  </thead>\n",
              "  <tbody>\n",
              "    <tr>\n",
              "      <th>0</th>\n",
              "      <td>277427</td>\n",
              "      <td>002542730X</td>\n",
              "      <td>10</td>\n",
              "      <td>Politically Correct Bedtime Stories: Modern Ta...</td>\n",
              "      <td>82</td>\n",
              "    </tr>\n",
              "    <tr>\n",
              "      <th>1</th>\n",
              "      <td>3363</td>\n",
              "      <td>002542730X</td>\n",
              "      <td>0</td>\n",
              "      <td>Politically Correct Bedtime Stories: Modern Ta...</td>\n",
              "      <td>82</td>\n",
              "    </tr>\n",
              "    <tr>\n",
              "      <th>2</th>\n",
              "      <td>11676</td>\n",
              "      <td>002542730X</td>\n",
              "      <td>6</td>\n",
              "      <td>Politically Correct Bedtime Stories: Modern Ta...</td>\n",
              "      <td>82</td>\n",
              "    </tr>\n",
              "    <tr>\n",
              "      <th>3</th>\n",
              "      <td>12538</td>\n",
              "      <td>002542730X</td>\n",
              "      <td>10</td>\n",
              "      <td>Politically Correct Bedtime Stories: Modern Ta...</td>\n",
              "      <td>82</td>\n",
              "    </tr>\n",
              "    <tr>\n",
              "      <th>4</th>\n",
              "      <td>13552</td>\n",
              "      <td>002542730X</td>\n",
              "      <td>0</td>\n",
              "      <td>Politically Correct Bedtime Stories: Modern Ta...</td>\n",
              "      <td>82</td>\n",
              "    </tr>\n",
              "  </tbody>\n",
              "</table>\n",
              "</div>"
            ],
            "text/plain": [
              "   userID  ... totalRatingCount\n",
              "0  277427  ...               82\n",
              "1    3363  ...               82\n",
              "2   11676  ...               82\n",
              "3   12538  ...               82\n",
              "4   13552  ...               82\n",
              "\n",
              "[5 rows x 5 columns]"
            ]
          },
          "metadata": {},
          "execution_count": 36
        }
      ]
    },
    {
      "cell_type": "code",
      "source": [
        "rating_popular_book.shape"
      ],
      "metadata": {
        "colab": {
          "base_uri": "https://localhost:8080/"
        },
        "id": "vhBuRixGm-pv",
        "outputId": "36a20726-ef88-4af0-a66b-cfa377cd6445"
      },
      "execution_count": 37,
      "outputs": [
        {
          "output_type": "execute_result",
          "data": {
            "text/plain": [
              "(62149, 5)"
            ]
          },
          "metadata": {},
          "execution_count": 37
        }
      ]
    },
    {
      "cell_type": "markdown",
      "source": [
        "**Filter to users in USA and Canada only**"
      ],
      "metadata": {
        "id": "f-IbzgA7nE4H"
      }
    },
    {
      "cell_type": "code",
      "source": [
        "combined = rating_popular_book.merge(users, left_on = 'userID', right_on ='userID', how = 'left')\n",
        "\n",
        "us_canada_user_rating = combined[combined['Location'].str.contains(\"usa|canada\")]\n",
        "us_canada_user_rating = us_canada_user_rating.drop('Age', axis =1)\n",
        "us_canada_user_rating.head()"
      ],
      "metadata": {
        "colab": {
          "base_uri": "https://localhost:8080/",
          "height": 206
        },
        "id": "hrgz8oTDnTc5",
        "outputId": "69e0d525-ad9f-4b1a-f2dc-b6248c24108f"
      },
      "execution_count": 38,
      "outputs": [
        {
          "output_type": "execute_result",
          "data": {
            "text/html": [
              "<div>\n",
              "<style scoped>\n",
              "    .dataframe tbody tr th:only-of-type {\n",
              "        vertical-align: middle;\n",
              "    }\n",
              "\n",
              "    .dataframe tbody tr th {\n",
              "        vertical-align: top;\n",
              "    }\n",
              "\n",
              "    .dataframe thead th {\n",
              "        text-align: right;\n",
              "    }\n",
              "</style>\n",
              "<table border=\"1\" class=\"dataframe\">\n",
              "  <thead>\n",
              "    <tr style=\"text-align: right;\">\n",
              "      <th></th>\n",
              "      <th>userID</th>\n",
              "      <th>ISBN</th>\n",
              "      <th>bookRating</th>\n",
              "      <th>bookTitle</th>\n",
              "      <th>totalRatingCount</th>\n",
              "      <th>Location</th>\n",
              "    </tr>\n",
              "  </thead>\n",
              "  <tbody>\n",
              "    <tr>\n",
              "      <th>0</th>\n",
              "      <td>277427</td>\n",
              "      <td>002542730X</td>\n",
              "      <td>10</td>\n",
              "      <td>Politically Correct Bedtime Stories: Modern Ta...</td>\n",
              "      <td>82</td>\n",
              "      <td>gilbert, arizona, usa</td>\n",
              "    </tr>\n",
              "    <tr>\n",
              "      <th>1</th>\n",
              "      <td>3363</td>\n",
              "      <td>002542730X</td>\n",
              "      <td>0</td>\n",
              "      <td>Politically Correct Bedtime Stories: Modern Ta...</td>\n",
              "      <td>82</td>\n",
              "      <td>knoxville, tennessee, usa</td>\n",
              "    </tr>\n",
              "    <tr>\n",
              "      <th>3</th>\n",
              "      <td>12538</td>\n",
              "      <td>002542730X</td>\n",
              "      <td>10</td>\n",
              "      <td>Politically Correct Bedtime Stories: Modern Ta...</td>\n",
              "      <td>82</td>\n",
              "      <td>byron, minnesota, usa</td>\n",
              "    </tr>\n",
              "    <tr>\n",
              "      <th>4</th>\n",
              "      <td>13552</td>\n",
              "      <td>002542730X</td>\n",
              "      <td>0</td>\n",
              "      <td>Politically Correct Bedtime Stories: Modern Ta...</td>\n",
              "      <td>82</td>\n",
              "      <td>cordova, tennessee, usa</td>\n",
              "    </tr>\n",
              "    <tr>\n",
              "      <th>5</th>\n",
              "      <td>16795</td>\n",
              "      <td>002542730X</td>\n",
              "      <td>0</td>\n",
              "      <td>Politically Correct Bedtime Stories: Modern Ta...</td>\n",
              "      <td>82</td>\n",
              "      <td>mechanicsville, maryland, usa</td>\n",
              "    </tr>\n",
              "  </tbody>\n",
              "</table>\n",
              "</div>"
            ],
            "text/plain": [
              "   userID        ISBN  ...  totalRatingCount                       Location\n",
              "0  277427  002542730X  ...                82          gilbert, arizona, usa\n",
              "1    3363  002542730X  ...                82      knoxville, tennessee, usa\n",
              "3   12538  002542730X  ...                82          byron, minnesota, usa\n",
              "4   13552  002542730X  ...                82        cordova, tennessee, usa\n",
              "5   16795  002542730X  ...                82  mechanicsville, maryland, usa\n",
              "\n",
              "[5 rows x 6 columns]"
            ]
          },
          "metadata": {},
          "execution_count": 38
        }
      ]
    },
    {
      "cell_type": "markdown",
      "source": [
        "**Cosine similarity**"
      ],
      "metadata": {
        "id": "57U85peloqpC"
      }
    },
    {
      "cell_type": "markdown",
      "source": [
        "Implementing kNN"
      ],
      "metadata": {
        "id": "mYTnJ1x9s22x"
      }
    },
    {
      "cell_type": "code",
      "source": [
        "from scipy.sparse import csr_matrix\n",
        "us_canada_user_rating = us_canada_user_rating.drop_duplicates(['userID', 'bookTitle'])\n",
        "us_canada_user_rating_pivot = us_canada_user_rating.pivot(index = 'bookTitle', columns = 'userID', values ='bookRating').fillna(0)\n",
        "us_canada_user_rating_matrix = csr_matrix(us_canada_user_rating_pivot.values)"
      ],
      "metadata": {
        "id": "XnqzfBUMs7DF"
      },
      "execution_count": 41,
      "outputs": []
    },
    {
      "cell_type": "code",
      "source": [
        "us_canada_user_rating_pivot.head()"
      ],
      "metadata": {
        "colab": {
          "base_uri": "https://localhost:8080/",
          "height": 374
        },
        "id": "Ew66n5tQu45y",
        "outputId": "08ed9fdd-ef61-44eb-eb57-9add842d2a39"
      },
      "execution_count": 42,
      "outputs": [
        {
          "output_type": "execute_result",
          "data": {
            "text/html": [
              "<div>\n",
              "<style scoped>\n",
              "    .dataframe tbody tr th:only-of-type {\n",
              "        vertical-align: middle;\n",
              "    }\n",
              "\n",
              "    .dataframe tbody tr th {\n",
              "        vertical-align: top;\n",
              "    }\n",
              "\n",
              "    .dataframe thead th {\n",
              "        text-align: right;\n",
              "    }\n",
              "</style>\n",
              "<table border=\"1\" class=\"dataframe\">\n",
              "  <thead>\n",
              "    <tr style=\"text-align: right;\">\n",
              "      <th>userID</th>\n",
              "      <th>254</th>\n",
              "      <th>2276</th>\n",
              "      <th>2766</th>\n",
              "      <th>2977</th>\n",
              "      <th>3363</th>\n",
              "      <th>4017</th>\n",
              "      <th>4385</th>\n",
              "      <th>6242</th>\n",
              "      <th>6251</th>\n",
              "      <th>6323</th>\n",
              "      <th>6543</th>\n",
              "      <th>6563</th>\n",
              "      <th>6575</th>\n",
              "      <th>7158</th>\n",
              "      <th>7286</th>\n",
              "      <th>7346</th>\n",
              "      <th>7915</th>\n",
              "      <th>8067</th>\n",
              "      <th>8245</th>\n",
              "      <th>8681</th>\n",
              "      <th>8936</th>\n",
              "      <th>9856</th>\n",
              "      <th>10447</th>\n",
              "      <th>10819</th>\n",
              "      <th>11601</th>\n",
              "      <th>11993</th>\n",
              "      <th>12538</th>\n",
              "      <th>12824</th>\n",
              "      <th>13082</th>\n",
              "      <th>13273</th>\n",
              "      <th>13552</th>\n",
              "      <th>13850</th>\n",
              "      <th>14422</th>\n",
              "      <th>14521</th>\n",
              "      <th>15408</th>\n",
              "      <th>16106</th>\n",
              "      <th>16634</th>\n",
              "      <th>16795</th>\n",
              "      <th>16916</th>\n",
              "      <th>16966</th>\n",
              "      <th>...</th>\n",
              "      <th>260897</th>\n",
              "      <th>261829</th>\n",
              "      <th>262399</th>\n",
              "      <th>263163</th>\n",
              "      <th>263460</th>\n",
              "      <th>263877</th>\n",
              "      <th>264031</th>\n",
              "      <th>264082</th>\n",
              "      <th>264321</th>\n",
              "      <th>264637</th>\n",
              "      <th>265115</th>\n",
              "      <th>265313</th>\n",
              "      <th>265889</th>\n",
              "      <th>266056</th>\n",
              "      <th>266226</th>\n",
              "      <th>266753</th>\n",
              "      <th>266865</th>\n",
              "      <th>267635</th>\n",
              "      <th>268032</th>\n",
              "      <th>268110</th>\n",
              "      <th>268330</th>\n",
              "      <th>268622</th>\n",
              "      <th>268932</th>\n",
              "      <th>269566</th>\n",
              "      <th>269719</th>\n",
              "      <th>269890</th>\n",
              "      <th>270713</th>\n",
              "      <th>270820</th>\n",
              "      <th>271195</th>\n",
              "      <th>271284</th>\n",
              "      <th>271448</th>\n",
              "      <th>271705</th>\n",
              "      <th>273979</th>\n",
              "      <th>274061</th>\n",
              "      <th>274308</th>\n",
              "      <th>274808</th>\n",
              "      <th>275970</th>\n",
              "      <th>277427</th>\n",
              "      <th>277639</th>\n",
              "      <th>278418</th>\n",
              "    </tr>\n",
              "    <tr>\n",
              "      <th>bookTitle</th>\n",
              "      <th></th>\n",
              "      <th></th>\n",
              "      <th></th>\n",
              "      <th></th>\n",
              "      <th></th>\n",
              "      <th></th>\n",
              "      <th></th>\n",
              "      <th></th>\n",
              "      <th></th>\n",
              "      <th></th>\n",
              "      <th></th>\n",
              "      <th></th>\n",
              "      <th></th>\n",
              "      <th></th>\n",
              "      <th></th>\n",
              "      <th></th>\n",
              "      <th></th>\n",
              "      <th></th>\n",
              "      <th></th>\n",
              "      <th></th>\n",
              "      <th></th>\n",
              "      <th></th>\n",
              "      <th></th>\n",
              "      <th></th>\n",
              "      <th></th>\n",
              "      <th></th>\n",
              "      <th></th>\n",
              "      <th></th>\n",
              "      <th></th>\n",
              "      <th></th>\n",
              "      <th></th>\n",
              "      <th></th>\n",
              "      <th></th>\n",
              "      <th></th>\n",
              "      <th></th>\n",
              "      <th></th>\n",
              "      <th></th>\n",
              "      <th></th>\n",
              "      <th></th>\n",
              "      <th></th>\n",
              "      <th></th>\n",
              "      <th></th>\n",
              "      <th></th>\n",
              "      <th></th>\n",
              "      <th></th>\n",
              "      <th></th>\n",
              "      <th></th>\n",
              "      <th></th>\n",
              "      <th></th>\n",
              "      <th></th>\n",
              "      <th></th>\n",
              "      <th></th>\n",
              "      <th></th>\n",
              "      <th></th>\n",
              "      <th></th>\n",
              "      <th></th>\n",
              "      <th></th>\n",
              "      <th></th>\n",
              "      <th></th>\n",
              "      <th></th>\n",
              "      <th></th>\n",
              "      <th></th>\n",
              "      <th></th>\n",
              "      <th></th>\n",
              "      <th></th>\n",
              "      <th></th>\n",
              "      <th></th>\n",
              "      <th></th>\n",
              "      <th></th>\n",
              "      <th></th>\n",
              "      <th></th>\n",
              "      <th></th>\n",
              "      <th></th>\n",
              "      <th></th>\n",
              "      <th></th>\n",
              "      <th></th>\n",
              "      <th></th>\n",
              "      <th></th>\n",
              "      <th></th>\n",
              "      <th></th>\n",
              "      <th></th>\n",
              "    </tr>\n",
              "  </thead>\n",
              "  <tbody>\n",
              "    <tr>\n",
              "      <th>1984</th>\n",
              "      <td>9.0</td>\n",
              "      <td>0.0</td>\n",
              "      <td>0.0</td>\n",
              "      <td>0.0</td>\n",
              "      <td>0.0</td>\n",
              "      <td>0.0</td>\n",
              "      <td>0.0</td>\n",
              "      <td>0.0</td>\n",
              "      <td>0.0</td>\n",
              "      <td>0.0</td>\n",
              "      <td>0.0</td>\n",
              "      <td>0.0</td>\n",
              "      <td>0.0</td>\n",
              "      <td>0.0</td>\n",
              "      <td>0.0</td>\n",
              "      <td>8.0</td>\n",
              "      <td>0.0</td>\n",
              "      <td>0.0</td>\n",
              "      <td>0.0</td>\n",
              "      <td>0.0</td>\n",
              "      <td>0.0</td>\n",
              "      <td>0.0</td>\n",
              "      <td>0.0</td>\n",
              "      <td>0.0</td>\n",
              "      <td>0.0</td>\n",
              "      <td>0.0</td>\n",
              "      <td>0.0</td>\n",
              "      <td>0.0</td>\n",
              "      <td>0.0</td>\n",
              "      <td>0.0</td>\n",
              "      <td>0.0</td>\n",
              "      <td>0.0</td>\n",
              "      <td>0.0</td>\n",
              "      <td>0.0</td>\n",
              "      <td>9.0</td>\n",
              "      <td>0.0</td>\n",
              "      <td>0.0</td>\n",
              "      <td>8.0</td>\n",
              "      <td>0.0</td>\n",
              "      <td>0.0</td>\n",
              "      <td>...</td>\n",
              "      <td>0.0</td>\n",
              "      <td>0.0</td>\n",
              "      <td>0.0</td>\n",
              "      <td>0.0</td>\n",
              "      <td>0.0</td>\n",
              "      <td>0.0</td>\n",
              "      <td>0.0</td>\n",
              "      <td>0.0</td>\n",
              "      <td>0.0</td>\n",
              "      <td>0.0</td>\n",
              "      <td>0.0</td>\n",
              "      <td>0.0</td>\n",
              "      <td>0.0</td>\n",
              "      <td>0.0</td>\n",
              "      <td>0.0</td>\n",
              "      <td>0.0</td>\n",
              "      <td>0.0</td>\n",
              "      <td>0.0</td>\n",
              "      <td>0.0</td>\n",
              "      <td>0.0</td>\n",
              "      <td>0.0</td>\n",
              "      <td>0.0</td>\n",
              "      <td>0.0</td>\n",
              "      <td>0.0</td>\n",
              "      <td>0.0</td>\n",
              "      <td>0.0</td>\n",
              "      <td>0.0</td>\n",
              "      <td>0.0</td>\n",
              "      <td>0.0</td>\n",
              "      <td>0.0</td>\n",
              "      <td>0.0</td>\n",
              "      <td>10.0</td>\n",
              "      <td>0.0</td>\n",
              "      <td>0.0</td>\n",
              "      <td>0.0</td>\n",
              "      <td>0.0</td>\n",
              "      <td>0.0</td>\n",
              "      <td>0.0</td>\n",
              "      <td>0.0</td>\n",
              "      <td>0.0</td>\n",
              "    </tr>\n",
              "    <tr>\n",
              "      <th>1st to Die: A Novel</th>\n",
              "      <td>0.0</td>\n",
              "      <td>0.0</td>\n",
              "      <td>0.0</td>\n",
              "      <td>0.0</td>\n",
              "      <td>0.0</td>\n",
              "      <td>0.0</td>\n",
              "      <td>0.0</td>\n",
              "      <td>0.0</td>\n",
              "      <td>0.0</td>\n",
              "      <td>0.0</td>\n",
              "      <td>9.0</td>\n",
              "      <td>0.0</td>\n",
              "      <td>0.0</td>\n",
              "      <td>0.0</td>\n",
              "      <td>0.0</td>\n",
              "      <td>0.0</td>\n",
              "      <td>0.0</td>\n",
              "      <td>0.0</td>\n",
              "      <td>0.0</td>\n",
              "      <td>0.0</td>\n",
              "      <td>0.0</td>\n",
              "      <td>0.0</td>\n",
              "      <td>0.0</td>\n",
              "      <td>0.0</td>\n",
              "      <td>0.0</td>\n",
              "      <td>0.0</td>\n",
              "      <td>0.0</td>\n",
              "      <td>0.0</td>\n",
              "      <td>0.0</td>\n",
              "      <td>0.0</td>\n",
              "      <td>0.0</td>\n",
              "      <td>0.0</td>\n",
              "      <td>0.0</td>\n",
              "      <td>0.0</td>\n",
              "      <td>0.0</td>\n",
              "      <td>0.0</td>\n",
              "      <td>0.0</td>\n",
              "      <td>9.0</td>\n",
              "      <td>0.0</td>\n",
              "      <td>0.0</td>\n",
              "      <td>...</td>\n",
              "      <td>0.0</td>\n",
              "      <td>8.0</td>\n",
              "      <td>0.0</td>\n",
              "      <td>0.0</td>\n",
              "      <td>0.0</td>\n",
              "      <td>0.0</td>\n",
              "      <td>0.0</td>\n",
              "      <td>0.0</td>\n",
              "      <td>0.0</td>\n",
              "      <td>0.0</td>\n",
              "      <td>0.0</td>\n",
              "      <td>0.0</td>\n",
              "      <td>0.0</td>\n",
              "      <td>7.0</td>\n",
              "      <td>0.0</td>\n",
              "      <td>0.0</td>\n",
              "      <td>0.0</td>\n",
              "      <td>0.0</td>\n",
              "      <td>0.0</td>\n",
              "      <td>0.0</td>\n",
              "      <td>0.0</td>\n",
              "      <td>0.0</td>\n",
              "      <td>0.0</td>\n",
              "      <td>0.0</td>\n",
              "      <td>0.0</td>\n",
              "      <td>0.0</td>\n",
              "      <td>0.0</td>\n",
              "      <td>0.0</td>\n",
              "      <td>0.0</td>\n",
              "      <td>0.0</td>\n",
              "      <td>0.0</td>\n",
              "      <td>0.0</td>\n",
              "      <td>0.0</td>\n",
              "      <td>0.0</td>\n",
              "      <td>0.0</td>\n",
              "      <td>0.0</td>\n",
              "      <td>0.0</td>\n",
              "      <td>0.0</td>\n",
              "      <td>0.0</td>\n",
              "      <td>0.0</td>\n",
              "    </tr>\n",
              "    <tr>\n",
              "      <th>2nd Chance</th>\n",
              "      <td>0.0</td>\n",
              "      <td>10.0</td>\n",
              "      <td>0.0</td>\n",
              "      <td>0.0</td>\n",
              "      <td>0.0</td>\n",
              "      <td>0.0</td>\n",
              "      <td>0.0</td>\n",
              "      <td>0.0</td>\n",
              "      <td>0.0</td>\n",
              "      <td>0.0</td>\n",
              "      <td>0.0</td>\n",
              "      <td>0.0</td>\n",
              "      <td>0.0</td>\n",
              "      <td>0.0</td>\n",
              "      <td>0.0</td>\n",
              "      <td>0.0</td>\n",
              "      <td>0.0</td>\n",
              "      <td>0.0</td>\n",
              "      <td>0.0</td>\n",
              "      <td>0.0</td>\n",
              "      <td>0.0</td>\n",
              "      <td>0.0</td>\n",
              "      <td>0.0</td>\n",
              "      <td>0.0</td>\n",
              "      <td>0.0</td>\n",
              "      <td>0.0</td>\n",
              "      <td>0.0</td>\n",
              "      <td>0.0</td>\n",
              "      <td>0.0</td>\n",
              "      <td>0.0</td>\n",
              "      <td>0.0</td>\n",
              "      <td>0.0</td>\n",
              "      <td>0.0</td>\n",
              "      <td>0.0</td>\n",
              "      <td>0.0</td>\n",
              "      <td>0.0</td>\n",
              "      <td>0.0</td>\n",
              "      <td>0.0</td>\n",
              "      <td>0.0</td>\n",
              "      <td>0.0</td>\n",
              "      <td>...</td>\n",
              "      <td>0.0</td>\n",
              "      <td>7.0</td>\n",
              "      <td>0.0</td>\n",
              "      <td>0.0</td>\n",
              "      <td>0.0</td>\n",
              "      <td>0.0</td>\n",
              "      <td>0.0</td>\n",
              "      <td>0.0</td>\n",
              "      <td>0.0</td>\n",
              "      <td>0.0</td>\n",
              "      <td>0.0</td>\n",
              "      <td>0.0</td>\n",
              "      <td>0.0</td>\n",
              "      <td>0.0</td>\n",
              "      <td>0.0</td>\n",
              "      <td>0.0</td>\n",
              "      <td>0.0</td>\n",
              "      <td>0.0</td>\n",
              "      <td>0.0</td>\n",
              "      <td>0.0</td>\n",
              "      <td>0.0</td>\n",
              "      <td>0.0</td>\n",
              "      <td>0.0</td>\n",
              "      <td>0.0</td>\n",
              "      <td>0.0</td>\n",
              "      <td>0.0</td>\n",
              "      <td>0.0</td>\n",
              "      <td>0.0</td>\n",
              "      <td>0.0</td>\n",
              "      <td>0.0</td>\n",
              "      <td>0.0</td>\n",
              "      <td>0.0</td>\n",
              "      <td>0.0</td>\n",
              "      <td>0.0</td>\n",
              "      <td>0.0</td>\n",
              "      <td>0.0</td>\n",
              "      <td>0.0</td>\n",
              "      <td>0.0</td>\n",
              "      <td>0.0</td>\n",
              "      <td>0.0</td>\n",
              "    </tr>\n",
              "    <tr>\n",
              "      <th>4 Blondes</th>\n",
              "      <td>0.0</td>\n",
              "      <td>0.0</td>\n",
              "      <td>0.0</td>\n",
              "      <td>0.0</td>\n",
              "      <td>0.0</td>\n",
              "      <td>0.0</td>\n",
              "      <td>0.0</td>\n",
              "      <td>0.0</td>\n",
              "      <td>0.0</td>\n",
              "      <td>0.0</td>\n",
              "      <td>0.0</td>\n",
              "      <td>0.0</td>\n",
              "      <td>0.0</td>\n",
              "      <td>0.0</td>\n",
              "      <td>0.0</td>\n",
              "      <td>0.0</td>\n",
              "      <td>0.0</td>\n",
              "      <td>0.0</td>\n",
              "      <td>0.0</td>\n",
              "      <td>0.0</td>\n",
              "      <td>0.0</td>\n",
              "      <td>0.0</td>\n",
              "      <td>5.0</td>\n",
              "      <td>0.0</td>\n",
              "      <td>0.0</td>\n",
              "      <td>0.0</td>\n",
              "      <td>0.0</td>\n",
              "      <td>0.0</td>\n",
              "      <td>0.0</td>\n",
              "      <td>0.0</td>\n",
              "      <td>0.0</td>\n",
              "      <td>0.0</td>\n",
              "      <td>0.0</td>\n",
              "      <td>0.0</td>\n",
              "      <td>0.0</td>\n",
              "      <td>7.0</td>\n",
              "      <td>0.0</td>\n",
              "      <td>0.0</td>\n",
              "      <td>0.0</td>\n",
              "      <td>0.0</td>\n",
              "      <td>...</td>\n",
              "      <td>6.0</td>\n",
              "      <td>0.0</td>\n",
              "      <td>0.0</td>\n",
              "      <td>0.0</td>\n",
              "      <td>0.0</td>\n",
              "      <td>0.0</td>\n",
              "      <td>0.0</td>\n",
              "      <td>0.0</td>\n",
              "      <td>5.0</td>\n",
              "      <td>0.0</td>\n",
              "      <td>0.0</td>\n",
              "      <td>0.0</td>\n",
              "      <td>0.0</td>\n",
              "      <td>0.0</td>\n",
              "      <td>0.0</td>\n",
              "      <td>0.0</td>\n",
              "      <td>0.0</td>\n",
              "      <td>0.0</td>\n",
              "      <td>0.0</td>\n",
              "      <td>0.0</td>\n",
              "      <td>0.0</td>\n",
              "      <td>0.0</td>\n",
              "      <td>0.0</td>\n",
              "      <td>0.0</td>\n",
              "      <td>0.0</td>\n",
              "      <td>0.0</td>\n",
              "      <td>0.0</td>\n",
              "      <td>0.0</td>\n",
              "      <td>0.0</td>\n",
              "      <td>0.0</td>\n",
              "      <td>0.0</td>\n",
              "      <td>0.0</td>\n",
              "      <td>0.0</td>\n",
              "      <td>0.0</td>\n",
              "      <td>0.0</td>\n",
              "      <td>0.0</td>\n",
              "      <td>0.0</td>\n",
              "      <td>0.0</td>\n",
              "      <td>0.0</td>\n",
              "      <td>0.0</td>\n",
              "    </tr>\n",
              "    <tr>\n",
              "      <th>84 Charing Cross Road</th>\n",
              "      <td>0.0</td>\n",
              "      <td>0.0</td>\n",
              "      <td>0.0</td>\n",
              "      <td>0.0</td>\n",
              "      <td>0.0</td>\n",
              "      <td>0.0</td>\n",
              "      <td>0.0</td>\n",
              "      <td>0.0</td>\n",
              "      <td>0.0</td>\n",
              "      <td>0.0</td>\n",
              "      <td>0.0</td>\n",
              "      <td>0.0</td>\n",
              "      <td>0.0</td>\n",
              "      <td>0.0</td>\n",
              "      <td>0.0</td>\n",
              "      <td>0.0</td>\n",
              "      <td>0.0</td>\n",
              "      <td>0.0</td>\n",
              "      <td>0.0</td>\n",
              "      <td>0.0</td>\n",
              "      <td>0.0</td>\n",
              "      <td>0.0</td>\n",
              "      <td>0.0</td>\n",
              "      <td>0.0</td>\n",
              "      <td>0.0</td>\n",
              "      <td>0.0</td>\n",
              "      <td>0.0</td>\n",
              "      <td>0.0</td>\n",
              "      <td>0.0</td>\n",
              "      <td>0.0</td>\n",
              "      <td>0.0</td>\n",
              "      <td>0.0</td>\n",
              "      <td>0.0</td>\n",
              "      <td>0.0</td>\n",
              "      <td>0.0</td>\n",
              "      <td>0.0</td>\n",
              "      <td>0.0</td>\n",
              "      <td>0.0</td>\n",
              "      <td>0.0</td>\n",
              "      <td>9.0</td>\n",
              "      <td>...</td>\n",
              "      <td>0.0</td>\n",
              "      <td>0.0</td>\n",
              "      <td>0.0</td>\n",
              "      <td>0.0</td>\n",
              "      <td>0.0</td>\n",
              "      <td>0.0</td>\n",
              "      <td>0.0</td>\n",
              "      <td>0.0</td>\n",
              "      <td>0.0</td>\n",
              "      <td>0.0</td>\n",
              "      <td>0.0</td>\n",
              "      <td>0.0</td>\n",
              "      <td>0.0</td>\n",
              "      <td>0.0</td>\n",
              "      <td>0.0</td>\n",
              "      <td>0.0</td>\n",
              "      <td>0.0</td>\n",
              "      <td>0.0</td>\n",
              "      <td>0.0</td>\n",
              "      <td>10.0</td>\n",
              "      <td>0.0</td>\n",
              "      <td>0.0</td>\n",
              "      <td>0.0</td>\n",
              "      <td>0.0</td>\n",
              "      <td>0.0</td>\n",
              "      <td>0.0</td>\n",
              "      <td>0.0</td>\n",
              "      <td>0.0</td>\n",
              "      <td>0.0</td>\n",
              "      <td>0.0</td>\n",
              "      <td>0.0</td>\n",
              "      <td>0.0</td>\n",
              "      <td>0.0</td>\n",
              "      <td>0.0</td>\n",
              "      <td>0.0</td>\n",
              "      <td>0.0</td>\n",
              "      <td>10.0</td>\n",
              "      <td>0.0</td>\n",
              "      <td>0.0</td>\n",
              "      <td>0.0</td>\n",
              "    </tr>\n",
              "  </tbody>\n",
              "</table>\n",
              "<p>5 rows × 734 columns</p>\n",
              "</div>"
            ],
            "text/plain": [
              "userID                 254     2276    2766    ...  277427  277639  278418\n",
              "bookTitle                                      ...                        \n",
              "1984                      9.0     0.0     0.0  ...     0.0     0.0     0.0\n",
              "1st to Die: A Novel       0.0     0.0     0.0  ...     0.0     0.0     0.0\n",
              "2nd Chance                0.0    10.0     0.0  ...     0.0     0.0     0.0\n",
              "4 Blondes                 0.0     0.0     0.0  ...     0.0     0.0     0.0\n",
              "84 Charing Cross Road     0.0     0.0     0.0  ...     0.0     0.0     0.0\n",
              "\n",
              "[5 rows x 734 columns]"
            ]
          },
          "metadata": {},
          "execution_count": 42
        }
      ]
    },
    {
      "cell_type": "code",
      "source": [
        "from sklearn.neighbors import NearestNeighbors\n",
        "\n",
        "model_knn = NearestNeighbors(metric = 'cosine', algorithm = 'brute')\n",
        "model_knn.fit(us_canada_user_rating_matrix)"
      ],
      "metadata": {
        "colab": {
          "base_uri": "https://localhost:8080/"
        },
        "id": "Aot5CDNOvX0s",
        "outputId": "b462e5cb-b25c-4bee-e95e-f9ae2c3daaf3"
      },
      "execution_count": 43,
      "outputs": [
        {
          "output_type": "execute_result",
          "data": {
            "text/plain": [
              "NearestNeighbors(algorithm='brute', metric='cosine')"
            ]
          },
          "metadata": {},
          "execution_count": 43
        }
      ]
    },
    {
      "cell_type": "code",
      "source": [
        "!pip install python-sql"
      ],
      "metadata": {
        "colab": {
          "base_uri": "https://localhost:8080/"
        },
        "id": "-w0V6DlawyBD",
        "outputId": "611338ee-4d4d-4b4e-8035-e5a01bf7b77e"
      },
      "execution_count": 45,
      "outputs": [
        {
          "output_type": "stream",
          "name": "stdout",
          "text": [
            "Collecting python-sql\n",
            "  Downloading python_sql-1.3.0-py3-none-any.whl (173 kB)\n",
            "\u001b[?25l\r\u001b[K     |█▉                              | 10 kB 23.5 MB/s eta 0:00:01\r\u001b[K     |███▊                            | 20 kB 27.0 MB/s eta 0:00:01\r\u001b[K     |█████▋                          | 30 kB 11.3 MB/s eta 0:00:01\r\u001b[K     |███████▌                        | 40 kB 9.5 MB/s eta 0:00:01\r\u001b[K     |█████████▍                      | 51 kB 5.3 MB/s eta 0:00:01\r\u001b[K     |███████████▎                    | 61 kB 5.8 MB/s eta 0:00:01\r\u001b[K     |█████████████▏                  | 71 kB 5.6 MB/s eta 0:00:01\r\u001b[K     |███████████████                 | 81 kB 6.2 MB/s eta 0:00:01\r\u001b[K     |█████████████████               | 92 kB 4.8 MB/s eta 0:00:01\r\u001b[K     |██████████████████▉             | 102 kB 5.2 MB/s eta 0:00:01\r\u001b[K     |████████████████████▊           | 112 kB 5.2 MB/s eta 0:00:01\r\u001b[K     |██████████████████████▋         | 122 kB 5.2 MB/s eta 0:00:01\r\u001b[K     |████████████████████████▌       | 133 kB 5.2 MB/s eta 0:00:01\r\u001b[K     |██████████████████████████▍     | 143 kB 5.2 MB/s eta 0:00:01\r\u001b[K     |████████████████████████████▎   | 153 kB 5.2 MB/s eta 0:00:01\r\u001b[K     |██████████████████████████████▏ | 163 kB 5.2 MB/s eta 0:00:01\r\u001b[K     |████████████████████████████████| 173 kB 5.2 MB/s \n",
            "\u001b[?25hInstalling collected packages: python-sql\n",
            "Successfully installed python-sql-1.3.0\n"
          ]
        }
      ]
    },
    {
      "cell_type": "code",
      "source": [
        "import pandas as pd"
      ],
      "metadata": {
        "id": "c839nvaPxst7"
      },
      "execution_count": 49,
      "outputs": []
    },
    {
      "cell_type": "code",
      "source": [
        "query_index =np.random.choice(us_canada_user_rating_pivot.shape[0])"
      ],
      "metadata": {
        "id": "9_CpCOJIx6Si"
      },
      "execution_count": 51,
      "outputs": []
    },
    {
      "cell_type": "code",
      "source": [
        "us_canada_user_rating_pivot.iloc[query_index,:].values.reshape(1,-1)"
      ],
      "metadata": {
        "colab": {
          "base_uri": "https://localhost:8080/"
        },
        "id": "KT-EalxYv7vB",
        "outputId": "375db790-bfe9-4552-dbc3-00021bae10c4"
      },
      "execution_count": 52,
      "outputs": [
        {
          "output_type": "execute_result",
          "data": {
            "text/plain": [
              "array([[ 0.,  0.,  0.,  0.,  0.,  0.,  0.,  0.,  0.,  0.,  0.,  0.,  0.,\n",
              "         0.,  0.,  0.,  0.,  0.,  0.,  0.,  0.,  0.,  0.,  0.,  0.,  0.,\n",
              "         0.,  0.,  0.,  0.,  0.,  0.,  0.,  0.,  0.,  0.,  0.,  0.,  0.,\n",
              "         0.,  0.,  0.,  0.,  0.,  0.,  0.,  0.,  0.,  0.,  0.,  0.,  0.,\n",
              "         0.,  0.,  0.,  0.,  0.,  0.,  0.,  0.,  0.,  0.,  0.,  0.,  0.,\n",
              "         0.,  0.,  0.,  0.,  0.,  0.,  0.,  0.,  0.,  0.,  0.,  0.,  0.,\n",
              "         0.,  0.,  0.,  0.,  0.,  0.,  0.,  0.,  0.,  0.,  0.,  0.,  0.,\n",
              "         0.,  0.,  0.,  0.,  0.,  0.,  0.,  0.,  0.,  0.,  0.,  0.,  0.,\n",
              "         0.,  0.,  0.,  0.,  0.,  0.,  0.,  0.,  0.,  0.,  0., 10.,  0.,\n",
              "         0.,  0.,  0.,  0.,  0.,  0.,  0.,  0.,  0.,  0.,  0.,  0.,  0.,\n",
              "         0.,  0.,  0.,  0.,  0.,  0.,  0.,  0.,  0.,  0.,  0.,  0.,  0.,\n",
              "         0.,  0.,  0.,  0.,  0.,  0.,  0.,  0.,  0.,  0.,  0.,  0.,  0.,\n",
              "         0.,  0.,  0.,  0.,  0.,  0.,  0.,  0.,  0.,  0.,  0.,  0.,  0.,\n",
              "         0.,  0.,  0.,  0.,  0.,  0.,  0.,  0.,  0.,  0.,  0.,  0.,  0.,\n",
              "         0.,  0.,  0.,  0.,  0.,  0.,  0.,  0.,  0.,  0.,  8.,  0.,  0.,\n",
              "         0.,  0.,  0.,  0.,  0.,  0.,  0.,  0.,  0.,  0.,  0.,  0.,  0.,\n",
              "         8.,  0.,  0.,  0.,  0.,  0.,  0.,  0.,  0.,  0.,  0.,  0.,  0.,\n",
              "         0.,  0.,  0.,  0.,  0.,  0.,  0.,  0.,  0.,  0.,  0.,  0.,  0.,\n",
              "         0.,  0.,  0.,  0.,  0.,  0.,  0.,  0.,  0.,  0.,  0.,  0.,  0.,\n",
              "         0.,  0.,  0.,  0.,  0.,  0.,  0.,  0.,  0.,  0.,  0.,  0.,  0.,\n",
              "         0.,  0.,  0.,  0.,  0.,  0.,  0.,  9.,  0.,  0.,  0.,  0.,  0.,\n",
              "         0.,  0.,  0.,  0.,  0.,  0.,  0.,  0.,  0.,  0.,  0.,  0.,  0.,\n",
              "         0.,  0.,  0.,  0.,  0.,  0.,  0.,  0.,  0.,  0.,  0.,  0.,  0.,\n",
              "         0.,  0.,  0.,  0.,  0.,  0.,  0.,  0.,  0.,  0.,  0.,  0.,  0.,\n",
              "         0.,  0.,  0.,  0.,  0.,  0.,  0.,  0.,  0.,  0.,  0.,  0.,  0.,\n",
              "         0.,  0.,  0.,  0.,  0.,  0.,  0.,  0.,  0.,  0.,  0.,  0.,  0.,\n",
              "         0.,  0.,  0.,  0.,  0.,  0.,  0.,  0.,  0.,  0.,  0.,  0.,  0.,\n",
              "         0.,  0.,  0.,  0.,  0.,  0.,  0.,  0.,  0.,  0.,  0.,  0.,  0.,\n",
              "         0.,  0.,  0.,  0.,  0.,  0.,  0.,  0.,  0.,  0.,  0.,  0.,  0.,\n",
              "         0.,  0.,  0.,  0.,  0.,  0.,  0.,  0.,  0.,  0.,  0.,  0.,  0.,\n",
              "         0.,  0.,  0.,  0.,  0.,  0.,  0.,  0.,  0.,  0.,  0.,  0.,  0.,\n",
              "         0.,  0.,  0.,  0.,  0.,  0.,  0.,  0.,  0.,  0.,  0.,  0.,  0.,\n",
              "         0.,  0.,  0.,  0.,  0.,  0.,  0.,  0.,  0.,  0.,  0.,  0.,  0.,\n",
              "         0.,  0.,  0.,  0.,  0.,  0.,  0.,  0.,  0.,  0.,  0.,  0.,  0.,\n",
              "         0.,  0.,  0.,  0.,  0.,  0.,  0.,  0.,  0.,  0.,  0.,  0.,  0.,\n",
              "         0.,  0.,  0.,  0.,  0.,  0.,  0.,  0.,  0.,  0.,  0.,  0.,  0.,\n",
              "         0.,  0.,  0.,  0.,  0.,  0.,  0.,  0.,  0.,  0.,  0.,  0.,  0.,\n",
              "         0.,  0.,  0.,  0.,  0.,  0.,  0.,  0., 10.,  0.,  0.,  0.,  0.,\n",
              "         0.,  0.,  0.,  0.,  0.,  0.,  0.,  0.,  0.,  0.,  0.,  0.,  0.,\n",
              "         0.,  0.,  0.,  0.,  0.,  0.,  0.,  0.,  0.,  0.,  0., 10.,  0.,\n",
              "         0.,  0.,  0.,  0.,  0.,  0.,  0.,  0.,  0.,  0.,  0.,  0.,  0.,\n",
              "         0.,  0.,  0.,  0.,  0.,  0.,  0.,  0.,  0.,  0.,  0.,  0.,  0.,\n",
              "         0.,  0.,  0.,  0.,  0.,  0.,  0.,  0.,  0.,  0.,  0.,  0.,  0.,\n",
              "         0.,  0.,  0.,  0.,  0.,  0.,  0.,  0.,  0.,  0.,  0.,  0.,  0.,\n",
              "         0.,  0.,  0.,  0.,  0.,  0.,  0.,  0.,  0.,  0.,  0.,  0.,  0.,\n",
              "         0.,  0.,  0.,  0.,  0.,  0.,  0.,  0.,  0.,  0.,  0.,  0.,  0.,\n",
              "         0.,  0.,  0.,  0.,  0.,  0.,  0.,  0.,  0.,  0.,  0.,  0.,  0.,\n",
              "         0.,  0.,  0.,  0.,  0.,  0.,  0.,  0.,  0.,  0.,  0.,  0.,  0.,\n",
              "         0.,  0.,  0., 10.,  0.,  0.,  0.,  0.,  0.,  0.,  0.,  0.,  0.,\n",
              "         0.,  0.,  0.,  0.,  0.,  0.,  0.,  0.,  0.,  0.,  0.,  0.,  0.,\n",
              "         0.,  0.,  0.,  0.,  0.,  0.,  0.,  0.,  0.,  0.,  0.,  0.,  0.,\n",
              "         0.,  0.,  0.,  0.,  0.,  0.,  0.,  0.,  0.,  0.,  0.,  0.,  0.,\n",
              "         0.,  0.,  0.,  0.,  0.,  0.,  0.,  0.,  0.,  0.,  0.,  0.,  0.,\n",
              "         0.,  0.,  0.,  0.,  0.,  0.,  0.,  0.,  0.,  0.,  0.,  0.,  0.,\n",
              "         0.,  0.,  0.,  0.,  0.,  0.,  0.,  0.,  0.,  0.,  0.,  0.,  0.,\n",
              "         0.,  0.,  0.,  0., 10.,  0.,  0.,  0.,  0.,  0.,  0.,  0.,  0.,\n",
              "         0.,  0.,  0.,  0.,  0.,  0.]])"
            ]
          },
          "metadata": {},
          "execution_count": 52
        }
      ]
    },
    {
      "cell_type": "code",
      "source": [
        "query_index =np.random.choice(us_canada_user_rating_pivot.shape[0])\n",
        "print(query_index)\n",
        "distances, indices = model_knn.kneighbors(us_canada_user_rating_pivot.iloc[query_index,:].values.reshape(1,-1), n_neighbors = 6)"
      ],
      "metadata": {
        "colab": {
          "base_uri": "https://localhost:8080/"
        },
        "id": "InfgJW6PyMy-",
        "outputId": "862bfd64-3eee-46c4-e70e-820af88a5321"
      },
      "execution_count": 56,
      "outputs": [
        {
          "output_type": "stream",
          "name": "stdout",
          "text": [
            "63\n"
          ]
        }
      ]
    },
    {
      "cell_type": "code",
      "source": [
        "us_canada_user_rating_pivot.index[query_index]"
      ],
      "metadata": {
        "colab": {
          "base_uri": "https://localhost:8080/",
          "height": 35
        },
        "id": "Whf3SJ40y1Oc",
        "outputId": "31d87a8c-4195-437c-c3fe-5e28863de9f2"
      },
      "execution_count": 57,
      "outputs": [
        {
          "output_type": "execute_result",
          "data": {
            "application/vnd.google.colaboratory.intrinsic+json": {
              "type": "string"
            },
            "text/plain": [
              "'B Is for Burglar (Kinsey Millhone Mysteries (Paperback))'"
            ]
          },
          "metadata": {},
          "execution_count": 57
        }
      ]
    },
    {
      "cell_type": "code",
      "source": [
        "for i in range(0, len(distances.flatten())):\n",
        "  if i == 0:\n",
        "     print('Recommendation for {0}:\\n'.format(us_canada_user_rating_pivot.index[query_index]))\n",
        "  else:\n",
        "    print('{0}: {1}, with distance of {2}:'.format(i, us_canada_user_rating_pivot.index[indices.flatten()[i]],distances.flatten()[i]))"
      ],
      "metadata": {
        "colab": {
          "base_uri": "https://localhost:8080/"
        },
        "id": "M8k7rkMMzN9C",
        "outputId": "4c0b9369-3a3d-4438-f100-3f64ad101492"
      },
      "execution_count": 60,
      "outputs": [
        {
          "output_type": "stream",
          "name": "stdout",
          "text": [
            "Recommendation for B Is for Burglar (Kinsey Millhone Mysteries (Paperback)):\n",
            "\n",
            "1: F Is for Fugitive (Kinsey Millhone Mysteries (Paperback)), with distance of 0.45217076201740525:\n",
            "2: D Is for Deadbeat (Kinsey Millhone Mysteries (Paperback)), with distance of 0.4891901502873188:\n",
            "3: G Is for Gumshoe (Kinsey Millhone Mysteries (Paperback)), with distance of 0.5152654514092473:\n",
            "4: I Is for Innocent, with distance of 0.5217774409596537:\n",
            "5: H Is for Homicide (Kinsey Millhone Mysteries (Paperback)), with distance of 0.5384340395681292:\n"
          ]
        }
      ]
    }
  ]
}